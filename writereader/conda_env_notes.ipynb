{
 "cells": [
  {
   "cell_type": "markdown",
   "id": "66dc0209-852f-4aee-9b35-3da2daecc0d6",
   "metadata": {},
   "source": [
    "# using-pip-to-install-packages-to-anaconda-environment\n",
    "\n",
    "[Link](https://stackoverflow.com/questions/41060382/using-pip-to-install-packages-to-anaconda-environment)"
   ]
  },
  {
   "cell_type": "code",
   "execution_count": null,
   "id": "2d4a63f4-035f-45bd-bf1b-a5f5c0ed137e",
   "metadata": {},
   "outputs": [],
   "source": [
    "#!conda update -n base -c defaults"
   ]
  },
  {
   "cell_type": "raw",
   "id": "62224787-277c-48e4-a6ce-7ae34f00f0a6",
   "metadata": {},
   "source": [
    "## Package Plan ##\n",
    "\n",
    "  environment location: C:\\Users\\msmith7\\AppData\\Local\\anaconda3\\envs\\writereader"
   ]
  }
 ],
 "metadata": {
  "kernelspec": {
   "display_name": "Python 3 (ipykernel)",
   "language": "python",
   "name": "python3"
  },
  "language_info": {
   "codemirror_mode": {
    "name": "ipython",
    "version": 3
   },
   "file_extension": ".py",
   "mimetype": "text/x-python",
   "name": "python",
   "nbconvert_exporter": "python",
   "pygments_lexer": "ipython3",
   "version": "3.10.12"
  }
 },
 "nbformat": 4,
 "nbformat_minor": 5
}
